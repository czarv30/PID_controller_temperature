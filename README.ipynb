{
 "cells": [
  {
   "cell_type": "markdown",
   "id": "6f2841f6-d736-42dd-8705-7457c15ecb58",
   "metadata": {},
   "source": [
    "# PID Temperature Controller\n",
    "Implemented in VHDL for Basys-3 FPGA using Vivado. \n",
    "\n",
    "Implementation details:\n",
    "* 4bit target mapped to switches on board.\n",
    "* Fixed-point arithmetic in Q8.8, manual implementation, not using fixed_pkg.\n",
    "* 1 KHz operation. \n",
    "* The plant is assumed to be a heat sink, like a water tank. A heat loss mechanism proportional to the difference to ambient remp is assumed.  \n",
    "\n",
    "```mermaid\n",
    "graph LR\n",
    "    %% --- Define all nodes first ---\n",
    "    N_Target[\"target<br> (4bit)\"]\n",
    "    %% Using Sigma for the summing junction N_SumError\n",
    "    N_SumError((Σ))\n",
    "    N_P[\"pid_pterm.vhd (Kp)\"]\n",
    "    N_I[\"pid_iterm.vhd (Ki)\"]\n",
    "    N_D[\"pid_dterm.vhd (Kd)\"]\n",
    "    %% Using Sigma for the summing junction N_SumPID\n",
    "    N_SumPID((Σ))\n",
    "    %% Matched Plant node text to your screenshot\n",
    "    N_Plant[\"plant2.vhd\"]\n",
    "\n",
    "    %% --- Define links between nodes ---\n",
    "    N_Target --(+)--> N_SumError\n",
    "    N_SumError --error_calc.vhd--> N_P\n",
    "    N_SumError --error_calc.vhd--> N_I\n",
    "    N_SumError --error_calc.vhd--> N_D\n",
    "\n",
    "    N_P --> N_SumPID\n",
    "    N_I --> N_SumPID\n",
    "    N_D --> N_SumPID\n",
    "\n",
    "    N_SumPID --control_in--> N_Plant\n",
    "    N_Plant --(-)--> N_SumError\n",
    "```"
   ]
  },
  {
   "cell_type": "markdown",
   "id": "854b740b-01af-4566-acd3-eb158081d70a",
   "metadata": {},
   "source": [
    "## Phase 1: P-only microcontroller. \n",
    "We develop all the code to run a p-only controller. Signals are exposed at the top level to export signals to csv, plotted below.\n",
    "\n",
    "Set target to \"0100\" (4 in decimal). Kp = 0.125\n",
    "\n",
    "On the plot below, see the most obvious problem with a p-only controller -- a large steady-state error, in this case resulting from the built-in cooling rate in the plant."
   ]
  },
  {
   "cell_type": "code",
   "execution_count": 53,
   "id": "cb2ef266-b517-49a4-ad4f-38225510e2fd",
   "metadata": {},
   "outputs": [
    {
     "data": {
      "image/png": "[encoded data removed]",
      "text/plain": [
       "<Figure size 400x300 with 1 Axes>"
      ]
     },
     "metadata": {},
     "output_type": "display_data"
    }
   ],
   "source": [
    "import importlib, polars as pl, dataplotter\n",
    "importlib.reload(dataplotter) # dataplotter is a separate script I wrote to make the plots.  \n",
    "import seaborn as sns\n",
    "import matplotlib.pyplot as plt\n",
    "# Preprocess the data\n",
    "df = pl.read_csv(r'C:\\prog\\repos\\PID_temperature_controller\\data\\sim_data_current.csv')\n",
    "dfp = df.with_columns(((pl.col('Time')*1e-9)*1e3).alias('time_ms')).filter( pl.col('time_ms')>1)\n",
    "\n",
    "fig, ax = plt.subplots(figsize=(4, 3))\n",
    "_ = sns.scatterplot(dfp.filter( pl.col('time_ms')<30 ),x='time_ms',y='error',ax=ax)"
   ]
  },
  {
   "cell_type": "markdown",
   "id": "ae46346b-18f3-47cf-9dfb-273202ca8ee4",
   "metadata": {},
   "source": [
    "## Phase 2: PI controller \n",
    "We add an integral term to study the change to the system. \n",
    "* Ki = 32/256 = 0.125\n",
    "\n",
    "As shown below we see a substantial improvement. However the system a large oscillation. "
   ]
  },
  {
   "cell_type": "code",
   "execution_count": 52,
   "id": "227d2419-cd4f-46c8-8e99-ee73ac23f800",
   "metadata": {},
   "outputs": [
    {
     "data": {
      "image/png": "[encoded data removed]",
      "text/plain": [
       "<Figure size 400x300 with 1 Axes>"
      ]
     },
     "metadata": {},
     "output_type": "display_data"
    }
   ],
   "source": [
    "import importlib, polars as pl, dataplotter\n",
    "importlib.reload(dataplotter) # dataplotter is a separate script I wrote to make the plots.  \n",
    "import seaborn as sns\n",
    "import matplotlib.pyplot as plt\n",
    "# Preprocess the data\n",
    "df = pl.read_csv(r'C:\\prog\\repos\\PID_temperature_controller\\data\\sim_data_current_PI.csv')\n",
    "dfp = df.with_columns(((pl.col('Time')*1e-9)*1e3).alias('time_ms')).filter( pl.col('time_ms')>2)\n",
    "\n",
    "fig, ax = plt.subplots(figsize=(4, 3))\n",
    "_ = sns.scatterplot(dfp.filter( pl.col('time_ms')<40 ),x='time_ms',y='error',ax=ax)"
   ]
  },
  {
   "cell_type": "code",
   "execution_count": null,
   "id": "18b8eac5-9973-4807-b525-5e1a96d94fe8",
   "metadata": {},
   "outputs": [],
   "source": []
  }
 ],
 "metadata": {
  "kernelspec": {
   "display_name": "Python 3 (ipykernel)",
   "language": "python",
   "name": "python3"
  },
  "language_info": {
   "codemirror_mode": {
    "name": "ipython",
    "version": 3
   },
   "file_extension": ".py",
   "mimetype": "text/x-python",
   "name": "python",
   "nbconvert_exporter": "python",
   "pygments_lexer": "ipython3",
   "version": "3.12.4"
  }
 },
 "nbformat": 4,
 "nbformat_minor": 5
}
